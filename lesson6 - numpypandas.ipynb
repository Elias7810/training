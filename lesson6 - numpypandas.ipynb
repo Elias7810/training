{
 "cells": [
  {
   "cell_type": "code",
   "execution_count": 176,
   "metadata": {
    "collapsed": true
   },
   "outputs": [],
   "source": [
    "import numpy as np\n",
    "import pandas as pd"
   ]
  },
  {
   "cell_type": "code",
   "execution_count": 177,
   "outputs": [],
   "source": [
    "def my_sort(lst):\n",
    "    for i in range(len(lst)):\n",
    "        for j in range(i + 1, len(lst)):\n",
    "            if lst[i] > lst[j]:\n",
    "                lst[i], lst[j] = lst[j], lst[i]\n",
    "    print (*lst)"
   ],
   "metadata": {
    "collapsed": false,
    "pycharm": {
     "name": "#%%\n"
    }
   }
  },
  {
   "cell_type": "code",
   "execution_count": 178,
   "outputs": [
    {
     "name": "stdout",
     "output_type": "stream",
     "text": [
      "4 4 7 10 14 16 25 29 43 46 57 63 70 70 71 82 83 91 93 99\n"
     ]
    }
   ],
   "source": [
    "lst = np.random.randint(0,100,20)\n",
    "my_sort(lst)"
   ],
   "metadata": {
    "collapsed": false,
    "pycharm": {
     "name": "#%%\n"
    }
   }
  },
  {
   "cell_type": "code",
   "execution_count": 179,
   "outputs": [],
   "source": [
    "data = pd.DataFrame([[820, '2021-04-29', 1, 213],[100, '2021-04-29', 1, 213],[600, '2021-04-30', 2, 113],[700, '2021-05-01', 3, 893]],\n",
    "columns=['cost', 'date', 'sale_id', 'shop_id'])\n",
    "period_dict = {'begin': '2021-04-29', 'end': '2021-05-30'}\n",
    "filters_dict = {'shop_id': [213, 893], 'sale_id':[1,2]}"
   ],
   "metadata": {
    "collapsed": false,
    "pycharm": {
     "name": "#%%\n"
    }
   }
  },
  {
   "cell_type": "code",
   "execution_count": 180,
   "outputs": [
    {
     "data": {
      "text/plain": "   cost        date  sale_id  shop_id\n0   820  2021-04-29        1      213\n1   100  2021-04-29        1      213\n2   600  2021-04-30        2      113\n3   700  2021-05-01        3      893",
      "text/html": "<div>\n<style scoped>\n    .dataframe tbody tr th:only-of-type {\n        vertical-align: middle;\n    }\n\n    .dataframe tbody tr th {\n        vertical-align: top;\n    }\n\n    .dataframe thead th {\n        text-align: right;\n    }\n</style>\n<table border=\"1\" class=\"dataframe\">\n  <thead>\n    <tr style=\"text-align: right;\">\n      <th></th>\n      <th>cost</th>\n      <th>date</th>\n      <th>sale_id</th>\n      <th>shop_id</th>\n    </tr>\n  </thead>\n  <tbody>\n    <tr>\n      <th>0</th>\n      <td>820</td>\n      <td>2021-04-29</td>\n      <td>1</td>\n      <td>213</td>\n    </tr>\n    <tr>\n      <th>1</th>\n      <td>100</td>\n      <td>2021-04-29</td>\n      <td>1</td>\n      <td>213</td>\n    </tr>\n    <tr>\n      <th>2</th>\n      <td>600</td>\n      <td>2021-04-30</td>\n      <td>2</td>\n      <td>113</td>\n    </tr>\n    <tr>\n      <th>3</th>\n      <td>700</td>\n      <td>2021-05-01</td>\n      <td>3</td>\n      <td>893</td>\n    </tr>\n  </tbody>\n</table>\n</div>"
     },
     "execution_count": 180,
     "metadata": {},
     "output_type": "execute_result"
    }
   ],
   "source": [
    "def calculate_sales_metrics(df, cost_name, date_name, sale_id_name, period, filters=None):\n",
    "   \"\"\"Вычисляет метрики по продажам.\n",
    "   df - pd.DataFrame, датафрейм с данными. Пример\n",
    "       pd.DataFrame(\n",
    "           [[820, '2021-04-03', 1, 213]],\n",
    "           columns=['cost', 'date', 'sale_id', 'shop_id']\n",
    "       )\n",
    "   cost_name - str, название столбца с стоимостью товара\n",
    "   date_name - str, название столбца с датой покупки\n",
    "   sale_id_name - str, название столбца с идентификатором покупки (в одной покупке может быть несколько товаров)\n",
    "   period - dict, словарь с датами начала и конца периода пилота.\n",
    "       Пример, {'begin': '2020-01-01', 'end': '2020-01-08'}.\n",
    "       Дата начала периода входит в полуинтервал, а дата окончания нет,\n",
    "       то есть '2020-01-01' <= date < '2020-01-08'.\n",
    "   filters - dict, словарь с фильтрами. Ключ - название поля, по которому фильтруем, значение - список значений,\n",
    "       которые нужно оставить. Например, {'user_id': [111, 123, 943]}.\n",
    "       Если None, то фильтровать не нужно.\n",
    "   return - pd.DataFrame, в индексах все даты из указанного периода отсортированные по возрастанию,\n",
    "       столбцы - метрики ['revenue', 'number_purchases', 'average_check', 'average_number_items'].\n",
    "       Формат данных столбцов - float, формат данных индекса - datetime64[ns].\n",
    "   \"\"\"\n",
    "   # YOUR_CODE_HERE\n",
    "data"
   ],
   "metadata": {
    "collapsed": false,
    "pycharm": {
     "name": "#%%\n"
    }
   }
  },
  {
   "cell_type": "code",
   "execution_count": 211,
   "outputs": [],
   "source": [
    "\n",
    "def calculate_sales_metrics(df, period, filters=None):\n",
    "    if  filters != None:\n",
    "        for k, v in filters.items():\n",
    "            data = data[data[k].isin(v)]\n",
    "    period_dict['begin'] = pd.to_datetime(period['begin'])\n",
    "    period_dict['end'] = pd.to_datetime(period['end'])\n",
    "    res = df.groupby('date').agg(revenue=('cost', 'sum'), number_purchases=('sale_id', 'count'), average_number_items = ('cost', 'count')).sort_values('date').reset_index()\n",
    "    res.loc[:, res.columns != 'date'] = res.loc[:, res.columns != 'date'].astype('float')\n",
    "    res['average_check'] = res.revenue/res.number_purchases\n",
    "    res.date = pd.to_datetime(res.date)\n",
    "    res = res[(period_dict['begin'] <= res.date) & (res.date < period_dict['end'])]\n",
    "    return (res)\n"
   ],
   "metadata": {
    "collapsed": false,
    "pycharm": {
     "name": "#%%\n"
    }
   }
  },
  {
   "cell_type": "code",
   "execution_count": 213,
   "outputs": [
    {
     "data": {
      "text/plain": "        date  revenue  number_purchases  average_number_items  average_check\n0 2021-04-29    920.0               2.0                   2.0          460.0",
      "text/html": "<div>\n<style scoped>\n    .dataframe tbody tr th:only-of-type {\n        vertical-align: middle;\n    }\n\n    .dataframe tbody tr th {\n        vertical-align: top;\n    }\n\n    .dataframe thead th {\n        text-align: right;\n    }\n</style>\n<table border=\"1\" class=\"dataframe\">\n  <thead>\n    <tr style=\"text-align: right;\">\n      <th></th>\n      <th>date</th>\n      <th>revenue</th>\n      <th>number_purchases</th>\n      <th>average_number_items</th>\n      <th>average_check</th>\n    </tr>\n  </thead>\n  <tbody>\n    <tr>\n      <th>0</th>\n      <td>2021-04-29</td>\n      <td>920.0</td>\n      <td>2.0</td>\n      <td>2.0</td>\n      <td>460.0</td>\n    </tr>\n  </tbody>\n</table>\n</div>"
     },
     "execution_count": 213,
     "metadata": {},
     "output_type": "execute_result"
    }
   ],
   "source": [
    "calculate_sales_metrics(data, period_dict)"
   ],
   "metadata": {
    "collapsed": false,
    "pycharm": {
     "name": "#%%\n"
    }
   }
  },
  {
   "cell_type": "code",
   "execution_count": null,
   "outputs": [],
   "source": [
    "\n"
   ],
   "metadata": {
    "collapsed": false,
    "pycharm": {
     "name": "#%%\n"
    }
   }
  },
  {
   "cell_type": "code",
   "execution_count": null,
   "outputs": [],
   "source": [],
   "metadata": {
    "collapsed": false,
    "pycharm": {
     "name": "#%%\n"
    }
   }
  }
 ],
 "metadata": {
  "kernelspec": {
   "display_name": "Python 3",
   "language": "python",
   "name": "python3"
  },
  "language_info": {
   "codemirror_mode": {
    "name": "ipython",
    "version": 2
   },
   "file_extension": ".py",
   "mimetype": "text/x-python",
   "name": "python",
   "nbconvert_exporter": "python",
   "pygments_lexer": "ipython2",
   "version": "2.7.6"
  }
 },
 "nbformat": 4,
 "nbformat_minor": 0
}