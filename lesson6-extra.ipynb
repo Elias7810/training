{
 "cells": [
  {
   "cell_type": "code",
   "execution_count": 186,
   "metadata": {
    "collapsed": true
   },
   "outputs": [],
   "source": [
    "import numpy as np\n",
    "import pandas as pd\n",
    "import sklearn.datasets\n",
    "from sklearn.model_selection import train_test_split\n",
    "from sklearn.metrics import r2_score\n",
    "from sklearn.ensemble import RandomForestClassifier\n",
    "from sklearn.model_selection import GridSearchCV\n",
    "from sklearn.metrics import recall_score, precision_score\n",
    "pd.options.display.float_format ='{:,.2f}'.format"
   ]
  },
  {
   "cell_type": "code",
   "execution_count": 187,
   "outputs": [
    {
     "data": {
      "text/plain": "{'data': array([[1.423e+01, 1.710e+00, 2.430e+00, ..., 1.040e+00, 3.920e+00,\n         1.065e+03],\n        [1.320e+01, 1.780e+00, 2.140e+00, ..., 1.050e+00, 3.400e+00,\n         1.050e+03],\n        [1.316e+01, 2.360e+00, 2.670e+00, ..., 1.030e+00, 3.170e+00,\n         1.185e+03],\n        ...,\n        [1.327e+01, 4.280e+00, 2.260e+00, ..., 5.900e-01, 1.560e+00,\n         8.350e+02],\n        [1.317e+01, 2.590e+00, 2.370e+00, ..., 6.000e-01, 1.620e+00,\n         8.400e+02],\n        [1.413e+01, 4.100e+00, 2.740e+00, ..., 6.100e-01, 1.600e+00,\n         5.600e+02]]),\n 'target': array([0, 0, 0, 0, 0, 0, 0, 0, 0, 0, 0, 0, 0, 0, 0, 0, 0, 0, 0, 0, 0, 0,\n        0, 0, 0, 0, 0, 0, 0, 0, 0, 0, 0, 0, 0, 0, 0, 0, 0, 0, 0, 0, 0, 0,\n        0, 0, 0, 0, 0, 0, 0, 0, 0, 0, 0, 0, 0, 0, 0, 1, 1, 1, 1, 1, 1, 1,\n        1, 1, 1, 1, 1, 1, 1, 1, 1, 1, 1, 1, 1, 1, 1, 1, 1, 1, 1, 1, 1, 1,\n        1, 1, 1, 1, 1, 1, 1, 1, 1, 1, 1, 1, 1, 1, 1, 1, 1, 1, 1, 1, 1, 1,\n        1, 1, 1, 1, 1, 1, 1, 1, 1, 1, 1, 1, 1, 1, 1, 1, 1, 1, 1, 1, 2, 2,\n        2, 2, 2, 2, 2, 2, 2, 2, 2, 2, 2, 2, 2, 2, 2, 2, 2, 2, 2, 2, 2, 2,\n        2, 2, 2, 2, 2, 2, 2, 2, 2, 2, 2, 2, 2, 2, 2, 2, 2, 2, 2, 2, 2, 2,\n        2, 2]),\n 'frame': None,\n 'target_names': array(['class_0', 'class_1', 'class_2'], dtype='<U7'),\n 'DESCR': '.. _wine_dataset:\\n\\nWine recognition dataset\\n------------------------\\n\\n**Data Set Characteristics:**\\n\\n    :Number of Instances: 178 (50 in each of three classes)\\n    :Number of Attributes: 13 numeric, predictive attributes and the class\\n    :Attribute Information:\\n \\t\\t- Alcohol\\n \\t\\t- Malic acid\\n \\t\\t- Ash\\n\\t\\t- Alcalinity of ash  \\n \\t\\t- Magnesium\\n\\t\\t- Total phenols\\n \\t\\t- Flavanoids\\n \\t\\t- Nonflavanoid phenols\\n \\t\\t- Proanthocyanins\\n\\t\\t- Color intensity\\n \\t\\t- Hue\\n \\t\\t- OD280/OD315 of diluted wines\\n \\t\\t- Proline\\n\\n    - class:\\n            - class_0\\n            - class_1\\n            - class_2\\n\\t\\t\\n    :Summary Statistics:\\n    \\n    ============================= ==== ===== ======= =====\\n                                   Min   Max   Mean     SD\\n    ============================= ==== ===== ======= =====\\n    Alcohol:                      11.0  14.8    13.0   0.8\\n    Malic Acid:                   0.74  5.80    2.34  1.12\\n    Ash:                          1.36  3.23    2.36  0.27\\n    Alcalinity of Ash:            10.6  30.0    19.5   3.3\\n    Magnesium:                    70.0 162.0    99.7  14.3\\n    Total Phenols:                0.98  3.88    2.29  0.63\\n    Flavanoids:                   0.34  5.08    2.03  1.00\\n    Nonflavanoid Phenols:         0.13  0.66    0.36  0.12\\n    Proanthocyanins:              0.41  3.58    1.59  0.57\\n    Colour Intensity:              1.3  13.0     5.1   2.3\\n    Hue:                          0.48  1.71    0.96  0.23\\n    OD280/OD315 of diluted wines: 1.27  4.00    2.61  0.71\\n    Proline:                       278  1680     746   315\\n    ============================= ==== ===== ======= =====\\n\\n    :Missing Attribute Values: None\\n    :Class Distribution: class_0 (59), class_1 (71), class_2 (48)\\n    :Creator: R.A. Fisher\\n    :Donor: Michael Marshall (MARSHALL%PLU@io.arc.nasa.gov)\\n    :Date: July, 1988\\n\\nThis is a copy of UCI ML Wine recognition datasets.\\nhttps://archive.ics.uci.edu/ml/machine-learning-databases/wine/wine.data\\n\\nThe data is the results of a chemical analysis of wines grown in the same\\nregion in Italy by three different cultivators. There are thirteen different\\nmeasurements taken for different constituents found in the three types of\\nwine.\\n\\nOriginal Owners: \\n\\nForina, M. et al, PARVUS - \\nAn Extendible Package for Data Exploration, Classification and Correlation. \\nInstitute of Pharmaceutical and Food Analysis and Technologies,\\nVia Brigata Salerno, 16147 Genoa, Italy.\\n\\nCitation:\\n\\nLichman, M. (2013). UCI Machine Learning Repository\\n[https://archive.ics.uci.edu/ml]. Irvine, CA: University of California,\\nSchool of Information and Computer Science. \\n\\n.. topic:: References\\n\\n  (1) S. Aeberhard, D. Coomans and O. de Vel, \\n  Comparison of Classifiers in High Dimensional Settings, \\n  Tech. Rep. no. 92-02, (1992), Dept. of Computer Science and Dept. of  \\n  Mathematics and Statistics, James Cook University of North Queensland. \\n  (Also submitted to Technometrics). \\n\\n  The data was used with many others for comparing various \\n  classifiers. The classes are separable, though only RDA \\n  has achieved 100% correct classification. \\n  (RDA : 100%, QDA 99.4%, LDA 98.9%, 1NN 96.1% (z-transformed data)) \\n  (All results using the leave-one-out technique) \\n\\n  (2) S. Aeberhard, D. Coomans and O. de Vel, \\n  \"THE CLASSIFICATION PERFORMANCE OF RDA\" \\n  Tech. Rep. no. 92-01, (1992), Dept. of Computer Science and Dept. of \\n  Mathematics and Statistics, James Cook University of North Queensland. \\n  (Also submitted to Journal of Chemometrics).\\n',\n 'feature_names': ['alcohol',\n  'malic_acid',\n  'ash',\n  'alcalinity_of_ash',\n  'magnesium',\n  'total_phenols',\n  'flavanoids',\n  'nonflavanoid_phenols',\n  'proanthocyanins',\n  'color_intensity',\n  'hue',\n  'od280/od315_of_diluted_wines',\n  'proline']}"
     },
     "execution_count": 187,
     "metadata": {},
     "output_type": "execute_result"
    }
   ],
   "source": [
    "data = sklearn.datasets.load_wine()\n",
    "data"
   ],
   "metadata": {
    "collapsed": false,
    "pycharm": {
     "name": "#%%\n"
    }
   }
  },
  {
   "cell_type": "code",
   "execution_count": 188,
   "outputs": [
    {
     "data": {
      "text/plain": "sklearn.utils.Bunch"
     },
     "execution_count": 188,
     "metadata": {},
     "output_type": "execute_result"
    }
   ],
   "source": [
    "type(data)"
   ],
   "metadata": {
    "collapsed": false,
    "pycharm": {
     "name": "#%%\n"
    }
   }
  },
  {
   "cell_type": "code",
   "execution_count": 189,
   "outputs": [
    {
     "data": {
      "text/plain": "dict_keys(['data', 'target', 'frame', 'target_names', 'DESCR', 'feature_names'])"
     },
     "execution_count": 189,
     "metadata": {},
     "output_type": "execute_result"
    }
   ],
   "source": [
    "data_keys = data.keys()\n",
    "data_keys"
   ],
   "metadata": {
    "collapsed": false,
    "pycharm": {
     "name": "#%%\n"
    }
   }
  },
  {
   "cell_type": "code",
   "execution_count": 190,
   "outputs": [
    {
     "data": {
      "text/plain": "class_0    1\nclass_2    1\nclass_1    1\ndtype: int64"
     },
     "execution_count": 190,
     "metadata": {},
     "output_type": "execute_result"
    }
   ],
   "source": [
    "pd.Series(data.target_names).value_counts()"
   ],
   "metadata": {
    "collapsed": false,
    "pycharm": {
     "name": "#%%\n"
    }
   }
  },
  {
   "cell_type": "code",
   "execution_count": 191,
   "outputs": [
    {
     "data": {
      "text/plain": "1    71\n0    59\n2    48\ndtype: int64"
     },
     "execution_count": 191,
     "metadata": {},
     "output_type": "execute_result"
    }
   ],
   "source": [
    "pd.Series(data.target).value_counts()"
   ],
   "metadata": {
    "collapsed": false,
    "pycharm": {
     "name": "#%%\n"
    }
   }
  },
  {
   "cell_type": "code",
   "execution_count": 192,
   "outputs": [
    {
     "data": {
      "text/plain": "['.. _wine_dataset:',\n '',\n 'Wine recognition dataset',\n '------------------------',\n '',\n '**Data Set Characteristics:**',\n '',\n '    :Number of Instances: 178 (50 in each of three classes)',\n '    :Number of Attributes: 13 numeric, predictive attributes and the class',\n '    :Attribute Information:',\n ' - Alcohol',\n ' - Malic acid',\n ' - Ash',\n '- Alcalinity of ash  ',\n ' - Magnesium',\n '- Total phenols',\n ' - Flavanoids',\n ' - Nonflavanoid phenols',\n ' - Proanthocyanins',\n '- Color intensity',\n ' - Hue',\n ' - OD280/OD315 of diluted wines',\n ' - Proline',\n '',\n '    - class:',\n '            - class_0',\n '            - class_1',\n '            - class_2',\n '',\n '    :Summary Statistics:',\n '    ',\n '    ============================= ==== ===== ======= =====',\n '                                   Min   Max   Mean     SD',\n '    ============================= ==== ===== ======= =====',\n '    Alcohol:                      11.0  14.8    13.0   0.8',\n '    Malic Acid:                   0.74  5.80    2.34  1.12',\n '    Ash:                          1.36  3.23    2.36  0.27',\n '    Alcalinity of Ash:            10.6  30.0    19.5   3.3',\n '    Magnesium:                    70.0 162.0    99.7  14.3',\n '    Total Phenols:                0.98  3.88    2.29  0.63',\n '    Flavanoids:                   0.34  5.08    2.03  1.00',\n '    Nonflavanoid Phenols:         0.13  0.66    0.36  0.12',\n '    Proanthocyanins:              0.41  3.58    1.59  0.57',\n '    Colour Intensity:              1.3  13.0     5.1   2.3',\n '    Hue:                          0.48  1.71    0.96  0.23',\n '    OD280/OD315 of diluted wines: 1.27  4.00    2.61  0.71',\n '    Proline:                       278  1680     746   315',\n '    ============================= ==== ===== ======= =====',\n '',\n '    :Missing Attribute Values: None',\n '    :Class Distribution: class_0 (59), class_1 (71), class_2 (48)',\n '    :Creator: R.A. Fisher',\n '    :Donor: Michael Marshall (MARSHALL%PLU@io.arc.nasa.gov)',\n '    :Date: July, 1988',\n '',\n 'This is a copy of UCI ML Wine recognition datasets.',\n 'https://archive.ics.uci.edu/ml/machine-learning-databases/wine/wine.data',\n '',\n 'The data is the results of a chemical analysis of wines grown in the same',\n 'region in Italy by three different cultivators. There are thirteen different',\n 'measurements taken for different constituents found in the three types of',\n 'wine.',\n '',\n 'Original Owners: ',\n '',\n 'Forina, M. et al, PARVUS - ',\n 'An Extendible Package for Data Exploration, Classification and Correlation. ',\n 'Institute of Pharmaceutical and Food Analysis and Technologies,',\n 'Via Brigata Salerno, 16147 Genoa, Italy.',\n '',\n 'Citation:',\n '',\n 'Lichman, M. (2013). UCI Machine Learning Repository',\n '[https://archive.ics.uci.edu/ml]. Irvine, CA: University of California,',\n 'School of Information and Computer Science. ',\n '',\n '.. topic:: References',\n '',\n '  (1) S. Aeberhard, D. Coomans and O. de Vel, ',\n '  Comparison of Classifiers in High Dimensional Settings, ',\n '  Tech. Rep. no. 92-02, (1992), Dept. of Computer Science and Dept. of  ',\n '  Mathematics and Statistics, James Cook University of North Queensland. ',\n '  (Also submitted to Technometrics). ',\n '',\n '  The data was used with many others for comparing various ',\n '  classifiers. The classes are separable, though only RDA ',\n '  has achieved 100% correct classification. ',\n '  (RDA : 100%, QDA 99.4%, LDA 98.9%, 1NN 96.1% (z-transformed data)) ',\n '  (All results using the leave-one-out technique) ',\n '',\n '  (2) S. Aeberhard, D. Coomans and O. de Vel, ',\n '  \"THE CLASSIFICATION PERFORMANCE OF RDA\" ',\n '  Tech. Rep. no. 92-01, (1992), Dept. of Computer Science and Dept. of ',\n '  Mathematics and Statistics, James Cook University of North Queensland. ',\n '  (Also submitted to Journal of Chemometrics).',\n '']"
     },
     "execution_count": 192,
     "metadata": {},
     "output_type": "execute_result"
    }
   ],
   "source": [
    "data.DESCR.replace('\\t\\t', '').split('\\n')"
   ],
   "metadata": {
    "collapsed": false,
    "pycharm": {
     "name": "#%%\n"
    }
   }
  },
  {
   "cell_type": "markdown",
   "source": [
    "Целевая переменная содержит 3 класса: class_0, class_1, class_2"
   ],
   "metadata": {
    "collapsed": false,
    "pycharm": {
     "name": "#%% md\n"
    }
   }
  },
  {
   "cell_type": "code",
   "execution_count": 193,
   "outputs": [
    {
     "name": "stdout",
     "output_type": "stream",
     "text": [
      "<class 'pandas.core.frame.DataFrame'>\n",
      "RangeIndex: 178 entries, 0 to 177\n",
      "Data columns (total 14 columns):\n",
      " #   Column                        Non-Null Count  Dtype  \n",
      "---  ------                        --------------  -----  \n",
      " 0   alcohol                       178 non-null    float64\n",
      " 1   malic_acid                    178 non-null    float64\n",
      " 2   ash                           178 non-null    float64\n",
      " 3   alcalinity_of_ash             178 non-null    float64\n",
      " 4   magnesium                     178 non-null    float64\n",
      " 5   total_phenols                 178 non-null    float64\n",
      " 6   flavanoids                    178 non-null    float64\n",
      " 7   nonflavanoid_phenols          178 non-null    float64\n",
      " 8   proanthocyanins               178 non-null    float64\n",
      " 9   color_intensity               178 non-null    float64\n",
      " 10  hue                           178 non-null    float64\n",
      " 11  od280/od315_of_diluted_wines  178 non-null    float64\n",
      " 12  proline                       178 non-null    float64\n",
      " 13  target                        178 non-null    int64  \n",
      "dtypes: float64(13), int64(1)\n",
      "memory usage: 19.6 KB\n"
     ]
    }
   ],
   "source": [
    "X = pd.DataFrame(data=data.data, columns=data.feature_names)\n",
    "X['target'] = data.target.astype('int64')\n",
    "X.info()"
   ],
   "metadata": {
    "collapsed": false,
    "pycharm": {
     "name": "#%%\n"
    }
   }
  },
  {
   "cell_type": "markdown",
   "source": [
    "Датафрейм имеет размерность 178 записей * 14 колонок, пропущенных значений не имеется"
   ],
   "metadata": {
    "collapsed": false,
    "pycharm": {
     "name": "#%% md\n"
    }
   }
  },
  {
   "cell_type": "code",
   "execution_count": 194,
   "outputs": [
    {
     "data": {
      "text/plain": "     alcohol  malic_acid  ash  alcalinity_of_ash  magnesium  total_phenols  \\\n0      14.23        1.71 2.43              15.60     127.00           2.80   \n1      13.20        1.78 2.14              11.20     100.00           2.65   \n2      13.16        2.36 2.67              18.60     101.00           2.80   \n3      14.37        1.95 2.50              16.80     113.00           3.85   \n4      13.24        2.59 2.87              21.00     118.00           2.80   \n..       ...         ...  ...                ...        ...            ...   \n173    13.71        5.65 2.45              20.50      95.00           1.68   \n174    13.40        3.91 2.48              23.00     102.00           1.80   \n175    13.27        4.28 2.26              20.00     120.00           1.59   \n176    13.17        2.59 2.37              20.00     120.00           1.65   \n177    14.13        4.10 2.74              24.50      96.00           2.05   \n\n     flavanoids  nonflavanoid_phenols  proanthocyanins  color_intensity  hue  \\\n0          3.06                  0.28             2.29             5.64 1.04   \n1          2.76                  0.26             1.28             4.38 1.05   \n2          3.24                  0.30             2.81             5.68 1.03   \n3          3.49                  0.24             2.18             7.80 0.86   \n4          2.69                  0.39             1.82             4.32 1.04   \n..          ...                   ...              ...              ...  ...   \n173        0.61                  0.52             1.06             7.70 0.64   \n174        0.75                  0.43             1.41             7.30 0.70   \n175        0.69                  0.43             1.35            10.20 0.59   \n176        0.68                  0.53             1.46             9.30 0.60   \n177        0.76                  0.56             1.35             9.20 0.61   \n\n     od280/od315_of_diluted_wines  proline  target  \n0                            3.92 1,065.00       0  \n1                            3.40 1,050.00       0  \n2                            3.17 1,185.00       0  \n3                            3.45 1,480.00       0  \n4                            2.93   735.00       0  \n..                            ...      ...     ...  \n173                          1.74   740.00       2  \n174                          1.56   750.00       2  \n175                          1.56   835.00       2  \n176                          1.62   840.00       2  \n177                          1.60   560.00       2  \n\n[178 rows x 14 columns]",
      "text/html": "<div>\n<style scoped>\n    .dataframe tbody tr th:only-of-type {\n        vertical-align: middle;\n    }\n\n    .dataframe tbody tr th {\n        vertical-align: top;\n    }\n\n    .dataframe thead th {\n        text-align: right;\n    }\n</style>\n<table border=\"1\" class=\"dataframe\">\n  <thead>\n    <tr style=\"text-align: right;\">\n      <th></th>\n      <th>alcohol</th>\n      <th>malic_acid</th>\n      <th>ash</th>\n      <th>alcalinity_of_ash</th>\n      <th>magnesium</th>\n      <th>total_phenols</th>\n      <th>flavanoids</th>\n      <th>nonflavanoid_phenols</th>\n      <th>proanthocyanins</th>\n      <th>color_intensity</th>\n      <th>hue</th>\n      <th>od280/od315_of_diluted_wines</th>\n      <th>proline</th>\n      <th>target</th>\n    </tr>\n  </thead>\n  <tbody>\n    <tr>\n      <th>0</th>\n      <td>14.23</td>\n      <td>1.71</td>\n      <td>2.43</td>\n      <td>15.60</td>\n      <td>127.00</td>\n      <td>2.80</td>\n      <td>3.06</td>\n      <td>0.28</td>\n      <td>2.29</td>\n      <td>5.64</td>\n      <td>1.04</td>\n      <td>3.92</td>\n      <td>1,065.00</td>\n      <td>0</td>\n    </tr>\n    <tr>\n      <th>1</th>\n      <td>13.20</td>\n      <td>1.78</td>\n      <td>2.14</td>\n      <td>11.20</td>\n      <td>100.00</td>\n      <td>2.65</td>\n      <td>2.76</td>\n      <td>0.26</td>\n      <td>1.28</td>\n      <td>4.38</td>\n      <td>1.05</td>\n      <td>3.40</td>\n      <td>1,050.00</td>\n      <td>0</td>\n    </tr>\n    <tr>\n      <th>2</th>\n      <td>13.16</td>\n      <td>2.36</td>\n      <td>2.67</td>\n      <td>18.60</td>\n      <td>101.00</td>\n      <td>2.80</td>\n      <td>3.24</td>\n      <td>0.30</td>\n      <td>2.81</td>\n      <td>5.68</td>\n      <td>1.03</td>\n      <td>3.17</td>\n      <td>1,185.00</td>\n      <td>0</td>\n    </tr>\n    <tr>\n      <th>3</th>\n      <td>14.37</td>\n      <td>1.95</td>\n      <td>2.50</td>\n      <td>16.80</td>\n      <td>113.00</td>\n      <td>3.85</td>\n      <td>3.49</td>\n      <td>0.24</td>\n      <td>2.18</td>\n      <td>7.80</td>\n      <td>0.86</td>\n      <td>3.45</td>\n      <td>1,480.00</td>\n      <td>0</td>\n    </tr>\n    <tr>\n      <th>4</th>\n      <td>13.24</td>\n      <td>2.59</td>\n      <td>2.87</td>\n      <td>21.00</td>\n      <td>118.00</td>\n      <td>2.80</td>\n      <td>2.69</td>\n      <td>0.39</td>\n      <td>1.82</td>\n      <td>4.32</td>\n      <td>1.04</td>\n      <td>2.93</td>\n      <td>735.00</td>\n      <td>0</td>\n    </tr>\n    <tr>\n      <th>...</th>\n      <td>...</td>\n      <td>...</td>\n      <td>...</td>\n      <td>...</td>\n      <td>...</td>\n      <td>...</td>\n      <td>...</td>\n      <td>...</td>\n      <td>...</td>\n      <td>...</td>\n      <td>...</td>\n      <td>...</td>\n      <td>...</td>\n      <td>...</td>\n    </tr>\n    <tr>\n      <th>173</th>\n      <td>13.71</td>\n      <td>5.65</td>\n      <td>2.45</td>\n      <td>20.50</td>\n      <td>95.00</td>\n      <td>1.68</td>\n      <td>0.61</td>\n      <td>0.52</td>\n      <td>1.06</td>\n      <td>7.70</td>\n      <td>0.64</td>\n      <td>1.74</td>\n      <td>740.00</td>\n      <td>2</td>\n    </tr>\n    <tr>\n      <th>174</th>\n      <td>13.40</td>\n      <td>3.91</td>\n      <td>2.48</td>\n      <td>23.00</td>\n      <td>102.00</td>\n      <td>1.80</td>\n      <td>0.75</td>\n      <td>0.43</td>\n      <td>1.41</td>\n      <td>7.30</td>\n      <td>0.70</td>\n      <td>1.56</td>\n      <td>750.00</td>\n      <td>2</td>\n    </tr>\n    <tr>\n      <th>175</th>\n      <td>13.27</td>\n      <td>4.28</td>\n      <td>2.26</td>\n      <td>20.00</td>\n      <td>120.00</td>\n      <td>1.59</td>\n      <td>0.69</td>\n      <td>0.43</td>\n      <td>1.35</td>\n      <td>10.20</td>\n      <td>0.59</td>\n      <td>1.56</td>\n      <td>835.00</td>\n      <td>2</td>\n    </tr>\n    <tr>\n      <th>176</th>\n      <td>13.17</td>\n      <td>2.59</td>\n      <td>2.37</td>\n      <td>20.00</td>\n      <td>120.00</td>\n      <td>1.65</td>\n      <td>0.68</td>\n      <td>0.53</td>\n      <td>1.46</td>\n      <td>9.30</td>\n      <td>0.60</td>\n      <td>1.62</td>\n      <td>840.00</td>\n      <td>2</td>\n    </tr>\n    <tr>\n      <th>177</th>\n      <td>14.13</td>\n      <td>4.10</td>\n      <td>2.74</td>\n      <td>24.50</td>\n      <td>96.00</td>\n      <td>2.05</td>\n      <td>0.76</td>\n      <td>0.56</td>\n      <td>1.35</td>\n      <td>9.20</td>\n      <td>0.61</td>\n      <td>1.60</td>\n      <td>560.00</td>\n      <td>2</td>\n    </tr>\n  </tbody>\n</table>\n<p>178 rows × 14 columns</p>\n</div>"
     },
     "execution_count": 194,
     "metadata": {},
     "output_type": "execute_result"
    }
   ],
   "source": [
    "X"
   ],
   "metadata": {
    "collapsed": false,
    "pycharm": {
     "name": "#%%\n"
    }
   }
  },
  {
   "cell_type": "code",
   "execution_count": 195,
   "outputs": [],
   "source": [
    "X_corr = X.corr()"
   ],
   "metadata": {
    "collapsed": false,
    "pycharm": {
     "name": "#%%\n"
    }
   }
  },
  {
   "cell_type": "code",
   "execution_count": 196,
   "outputs": [
    {
     "data": {
      "text/plain": "                              alcohol  malic_acid   ash  alcalinity_of_ash  \\\nalcohol                          1.00        0.09  0.21              -0.31   \nmalic_acid                       0.09        1.00  0.16               0.29   \nash                              0.21        0.16  1.00               0.44   \nalcalinity_of_ash               -0.31        0.29  0.44               1.00   \nmagnesium                        0.27       -0.05  0.29              -0.08   \ntotal_phenols                    0.29       -0.34  0.13              -0.32   \nflavanoids                       0.24       -0.41  0.12              -0.35   \nnonflavanoid_phenols            -0.16        0.29  0.19               0.36   \nproanthocyanins                  0.14       -0.22  0.01              -0.20   \ncolor_intensity                  0.55        0.25  0.26               0.02   \nhue                             -0.07       -0.56 -0.07              -0.27   \nod280/od315_of_diluted_wines     0.07       -0.37  0.00              -0.28   \nproline                          0.64       -0.19  0.22              -0.44   \ntarget                          -0.33        0.44 -0.05               0.52   \n\n                              magnesium  total_phenols  flavanoids  \\\nalcohol                            0.27           0.29        0.24   \nmalic_acid                        -0.05          -0.34       -0.41   \nash                                0.29           0.13        0.12   \nalcalinity_of_ash                 -0.08          -0.32       -0.35   \nmagnesium                          1.00           0.21        0.20   \ntotal_phenols                      0.21           1.00        0.86   \nflavanoids                         0.20           0.86        1.00   \nnonflavanoid_phenols              -0.26          -0.45       -0.54   \nproanthocyanins                    0.24           0.61        0.65   \ncolor_intensity                    0.20          -0.06       -0.17   \nhue                                0.06           0.43        0.54   \nod280/od315_of_diluted_wines       0.07           0.70        0.79   \nproline                            0.39           0.50        0.49   \ntarget                            -0.21          -0.72       -0.85   \n\n                              nonflavanoid_phenols  proanthocyanins  \\\nalcohol                                      -0.16             0.14   \nmalic_acid                                    0.29            -0.22   \nash                                           0.19             0.01   \nalcalinity_of_ash                             0.36            -0.20   \nmagnesium                                    -0.26             0.24   \ntotal_phenols                                -0.45             0.61   \nflavanoids                                   -0.54             0.65   \nnonflavanoid_phenols                          1.00            -0.37   \nproanthocyanins                              -0.37             1.00   \ncolor_intensity                               0.14            -0.03   \nhue                                          -0.26             0.30   \nod280/od315_of_diluted_wines                 -0.50             0.52   \nproline                                      -0.31             0.33   \ntarget                                        0.49            -0.50   \n\n                              color_intensity   hue  \\\nalcohol                                  0.55 -0.07   \nmalic_acid                               0.25 -0.56   \nash                                      0.26 -0.07   \nalcalinity_of_ash                        0.02 -0.27   \nmagnesium                                0.20  0.06   \ntotal_phenols                           -0.06  0.43   \nflavanoids                              -0.17  0.54   \nnonflavanoid_phenols                     0.14 -0.26   \nproanthocyanins                         -0.03  0.30   \ncolor_intensity                          1.00 -0.52   \nhue                                     -0.52  1.00   \nod280/od315_of_diluted_wines            -0.43  0.57   \nproline                                  0.32  0.24   \ntarget                                   0.27 -0.62   \n\n                              od280/od315_of_diluted_wines  proline  target  \nalcohol                                               0.07     0.64   -0.33  \nmalic_acid                                           -0.37    -0.19    0.44  \nash                                                   0.00     0.22   -0.05  \nalcalinity_of_ash                                    -0.28    -0.44    0.52  \nmagnesium                                             0.07     0.39   -0.21  \ntotal_phenols                                         0.70     0.50   -0.72  \nflavanoids                                            0.79     0.49   -0.85  \nnonflavanoid_phenols                                 -0.50    -0.31    0.49  \nproanthocyanins                                       0.52     0.33   -0.50  \ncolor_intensity                                      -0.43     0.32    0.27  \nhue                                                   0.57     0.24   -0.62  \nod280/od315_of_diluted_wines                          1.00     0.31   -0.79  \nproline                                               0.31     1.00   -0.63  \ntarget                                               -0.79    -0.63    1.00  ",
      "text/html": "<div>\n<style scoped>\n    .dataframe tbody tr th:only-of-type {\n        vertical-align: middle;\n    }\n\n    .dataframe tbody tr th {\n        vertical-align: top;\n    }\n\n    .dataframe thead th {\n        text-align: right;\n    }\n</style>\n<table border=\"1\" class=\"dataframe\">\n  <thead>\n    <tr style=\"text-align: right;\">\n      <th></th>\n      <th>alcohol</th>\n      <th>malic_acid</th>\n      <th>ash</th>\n      <th>alcalinity_of_ash</th>\n      <th>magnesium</th>\n      <th>total_phenols</th>\n      <th>flavanoids</th>\n      <th>nonflavanoid_phenols</th>\n      <th>proanthocyanins</th>\n      <th>color_intensity</th>\n      <th>hue</th>\n      <th>od280/od315_of_diluted_wines</th>\n      <th>proline</th>\n      <th>target</th>\n    </tr>\n  </thead>\n  <tbody>\n    <tr>\n      <th>alcohol</th>\n      <td>1.00</td>\n      <td>0.09</td>\n      <td>0.21</td>\n      <td>-0.31</td>\n      <td>0.27</td>\n      <td>0.29</td>\n      <td>0.24</td>\n      <td>-0.16</td>\n      <td>0.14</td>\n      <td>0.55</td>\n      <td>-0.07</td>\n      <td>0.07</td>\n      <td>0.64</td>\n      <td>-0.33</td>\n    </tr>\n    <tr>\n      <th>malic_acid</th>\n      <td>0.09</td>\n      <td>1.00</td>\n      <td>0.16</td>\n      <td>0.29</td>\n      <td>-0.05</td>\n      <td>-0.34</td>\n      <td>-0.41</td>\n      <td>0.29</td>\n      <td>-0.22</td>\n      <td>0.25</td>\n      <td>-0.56</td>\n      <td>-0.37</td>\n      <td>-0.19</td>\n      <td>0.44</td>\n    </tr>\n    <tr>\n      <th>ash</th>\n      <td>0.21</td>\n      <td>0.16</td>\n      <td>1.00</td>\n      <td>0.44</td>\n      <td>0.29</td>\n      <td>0.13</td>\n      <td>0.12</td>\n      <td>0.19</td>\n      <td>0.01</td>\n      <td>0.26</td>\n      <td>-0.07</td>\n      <td>0.00</td>\n      <td>0.22</td>\n      <td>-0.05</td>\n    </tr>\n    <tr>\n      <th>alcalinity_of_ash</th>\n      <td>-0.31</td>\n      <td>0.29</td>\n      <td>0.44</td>\n      <td>1.00</td>\n      <td>-0.08</td>\n      <td>-0.32</td>\n      <td>-0.35</td>\n      <td>0.36</td>\n      <td>-0.20</td>\n      <td>0.02</td>\n      <td>-0.27</td>\n      <td>-0.28</td>\n      <td>-0.44</td>\n      <td>0.52</td>\n    </tr>\n    <tr>\n      <th>magnesium</th>\n      <td>0.27</td>\n      <td>-0.05</td>\n      <td>0.29</td>\n      <td>-0.08</td>\n      <td>1.00</td>\n      <td>0.21</td>\n      <td>0.20</td>\n      <td>-0.26</td>\n      <td>0.24</td>\n      <td>0.20</td>\n      <td>0.06</td>\n      <td>0.07</td>\n      <td>0.39</td>\n      <td>-0.21</td>\n    </tr>\n    <tr>\n      <th>total_phenols</th>\n      <td>0.29</td>\n      <td>-0.34</td>\n      <td>0.13</td>\n      <td>-0.32</td>\n      <td>0.21</td>\n      <td>1.00</td>\n      <td>0.86</td>\n      <td>-0.45</td>\n      <td>0.61</td>\n      <td>-0.06</td>\n      <td>0.43</td>\n      <td>0.70</td>\n      <td>0.50</td>\n      <td>-0.72</td>\n    </tr>\n    <tr>\n      <th>flavanoids</th>\n      <td>0.24</td>\n      <td>-0.41</td>\n      <td>0.12</td>\n      <td>-0.35</td>\n      <td>0.20</td>\n      <td>0.86</td>\n      <td>1.00</td>\n      <td>-0.54</td>\n      <td>0.65</td>\n      <td>-0.17</td>\n      <td>0.54</td>\n      <td>0.79</td>\n      <td>0.49</td>\n      <td>-0.85</td>\n    </tr>\n    <tr>\n      <th>nonflavanoid_phenols</th>\n      <td>-0.16</td>\n      <td>0.29</td>\n      <td>0.19</td>\n      <td>0.36</td>\n      <td>-0.26</td>\n      <td>-0.45</td>\n      <td>-0.54</td>\n      <td>1.00</td>\n      <td>-0.37</td>\n      <td>0.14</td>\n      <td>-0.26</td>\n      <td>-0.50</td>\n      <td>-0.31</td>\n      <td>0.49</td>\n    </tr>\n    <tr>\n      <th>proanthocyanins</th>\n      <td>0.14</td>\n      <td>-0.22</td>\n      <td>0.01</td>\n      <td>-0.20</td>\n      <td>0.24</td>\n      <td>0.61</td>\n      <td>0.65</td>\n      <td>-0.37</td>\n      <td>1.00</td>\n      <td>-0.03</td>\n      <td>0.30</td>\n      <td>0.52</td>\n      <td>0.33</td>\n      <td>-0.50</td>\n    </tr>\n    <tr>\n      <th>color_intensity</th>\n      <td>0.55</td>\n      <td>0.25</td>\n      <td>0.26</td>\n      <td>0.02</td>\n      <td>0.20</td>\n      <td>-0.06</td>\n      <td>-0.17</td>\n      <td>0.14</td>\n      <td>-0.03</td>\n      <td>1.00</td>\n      <td>-0.52</td>\n      <td>-0.43</td>\n      <td>0.32</td>\n      <td>0.27</td>\n    </tr>\n    <tr>\n      <th>hue</th>\n      <td>-0.07</td>\n      <td>-0.56</td>\n      <td>-0.07</td>\n      <td>-0.27</td>\n      <td>0.06</td>\n      <td>0.43</td>\n      <td>0.54</td>\n      <td>-0.26</td>\n      <td>0.30</td>\n      <td>-0.52</td>\n      <td>1.00</td>\n      <td>0.57</td>\n      <td>0.24</td>\n      <td>-0.62</td>\n    </tr>\n    <tr>\n      <th>od280/od315_of_diluted_wines</th>\n      <td>0.07</td>\n      <td>-0.37</td>\n      <td>0.00</td>\n      <td>-0.28</td>\n      <td>0.07</td>\n      <td>0.70</td>\n      <td>0.79</td>\n      <td>-0.50</td>\n      <td>0.52</td>\n      <td>-0.43</td>\n      <td>0.57</td>\n      <td>1.00</td>\n      <td>0.31</td>\n      <td>-0.79</td>\n    </tr>\n    <tr>\n      <th>proline</th>\n      <td>0.64</td>\n      <td>-0.19</td>\n      <td>0.22</td>\n      <td>-0.44</td>\n      <td>0.39</td>\n      <td>0.50</td>\n      <td>0.49</td>\n      <td>-0.31</td>\n      <td>0.33</td>\n      <td>0.32</td>\n      <td>0.24</td>\n      <td>0.31</td>\n      <td>1.00</td>\n      <td>-0.63</td>\n    </tr>\n    <tr>\n      <th>target</th>\n      <td>-0.33</td>\n      <td>0.44</td>\n      <td>-0.05</td>\n      <td>0.52</td>\n      <td>-0.21</td>\n      <td>-0.72</td>\n      <td>-0.85</td>\n      <td>0.49</td>\n      <td>-0.50</td>\n      <td>0.27</td>\n      <td>-0.62</td>\n      <td>-0.79</td>\n      <td>-0.63</td>\n      <td>1.00</td>\n    </tr>\n  </tbody>\n</table>\n</div>"
     },
     "execution_count": 196,
     "metadata": {},
     "output_type": "execute_result"
    }
   ],
   "source": [
    "high_corr=X_corr.query('0.5<abs(target)<1').index.to_list()\n",
    "X_corr"
   ],
   "metadata": {
    "collapsed": false,
    "pycharm": {
     "name": "#%%\n"
    }
   }
  },
  {
   "cell_type": "code",
   "execution_count": 197,
   "outputs": [
    {
     "data": {
      "text/plain": "     alcohol  malic_acid  ash  alcalinity_of_ash  magnesium  total_phenols  \\\n0      14.23        1.71 2.43              15.60     127.00           2.80   \n1      13.20        1.78 2.14              11.20     100.00           2.65   \n2      13.16        2.36 2.67              18.60     101.00           2.80   \n3      14.37        1.95 2.50              16.80     113.00           3.85   \n4      13.24        2.59 2.87              21.00     118.00           2.80   \n..       ...         ...  ...                ...        ...            ...   \n173    13.71        5.65 2.45              20.50      95.00           1.68   \n174    13.40        3.91 2.48              23.00     102.00           1.80   \n175    13.27        4.28 2.26              20.00     120.00           1.59   \n176    13.17        2.59 2.37              20.00     120.00           1.65   \n177    14.13        4.10 2.74              24.50      96.00           2.05   \n\n     flavanoids  nonflavanoid_phenols  proanthocyanins  color_intensity  hue  \\\n0          3.06                  0.28             2.29             5.64 1.04   \n1          2.76                  0.26             1.28             4.38 1.05   \n2          3.24                  0.30             2.81             5.68 1.03   \n3          3.49                  0.24             2.18             7.80 0.86   \n4          2.69                  0.39             1.82             4.32 1.04   \n..          ...                   ...              ...              ...  ...   \n173        0.61                  0.52             1.06             7.70 0.64   \n174        0.75                  0.43             1.41             7.30 0.70   \n175        0.69                  0.43             1.35            10.20 0.59   \n176        0.68                  0.53             1.46             9.30 0.60   \n177        0.76                  0.56             1.35             9.20 0.61   \n\n     od280/od315_of_diluted_wines  proline  \n0                            3.92 1,065.00  \n1                            3.40 1,050.00  \n2                            3.17 1,185.00  \n3                            3.45 1,480.00  \n4                            2.93   735.00  \n..                            ...      ...  \n173                          1.74   740.00  \n174                          1.56   750.00  \n175                          1.56   835.00  \n176                          1.62   840.00  \n177                          1.60   560.00  \n\n[178 rows x 13 columns]",
      "text/html": "<div>\n<style scoped>\n    .dataframe tbody tr th:only-of-type {\n        vertical-align: middle;\n    }\n\n    .dataframe tbody tr th {\n        vertical-align: top;\n    }\n\n    .dataframe thead th {\n        text-align: right;\n    }\n</style>\n<table border=\"1\" class=\"dataframe\">\n  <thead>\n    <tr style=\"text-align: right;\">\n      <th></th>\n      <th>alcohol</th>\n      <th>malic_acid</th>\n      <th>ash</th>\n      <th>alcalinity_of_ash</th>\n      <th>magnesium</th>\n      <th>total_phenols</th>\n      <th>flavanoids</th>\n      <th>nonflavanoid_phenols</th>\n      <th>proanthocyanins</th>\n      <th>color_intensity</th>\n      <th>hue</th>\n      <th>od280/od315_of_diluted_wines</th>\n      <th>proline</th>\n    </tr>\n  </thead>\n  <tbody>\n    <tr>\n      <th>0</th>\n      <td>14.23</td>\n      <td>1.71</td>\n      <td>2.43</td>\n      <td>15.60</td>\n      <td>127.00</td>\n      <td>2.80</td>\n      <td>3.06</td>\n      <td>0.28</td>\n      <td>2.29</td>\n      <td>5.64</td>\n      <td>1.04</td>\n      <td>3.92</td>\n      <td>1,065.00</td>\n    </tr>\n    <tr>\n      <th>1</th>\n      <td>13.20</td>\n      <td>1.78</td>\n      <td>2.14</td>\n      <td>11.20</td>\n      <td>100.00</td>\n      <td>2.65</td>\n      <td>2.76</td>\n      <td>0.26</td>\n      <td>1.28</td>\n      <td>4.38</td>\n      <td>1.05</td>\n      <td>3.40</td>\n      <td>1,050.00</td>\n    </tr>\n    <tr>\n      <th>2</th>\n      <td>13.16</td>\n      <td>2.36</td>\n      <td>2.67</td>\n      <td>18.60</td>\n      <td>101.00</td>\n      <td>2.80</td>\n      <td>3.24</td>\n      <td>0.30</td>\n      <td>2.81</td>\n      <td>5.68</td>\n      <td>1.03</td>\n      <td>3.17</td>\n      <td>1,185.00</td>\n    </tr>\n    <tr>\n      <th>3</th>\n      <td>14.37</td>\n      <td>1.95</td>\n      <td>2.50</td>\n      <td>16.80</td>\n      <td>113.00</td>\n      <td>3.85</td>\n      <td>3.49</td>\n      <td>0.24</td>\n      <td>2.18</td>\n      <td>7.80</td>\n      <td>0.86</td>\n      <td>3.45</td>\n      <td>1,480.00</td>\n    </tr>\n    <tr>\n      <th>4</th>\n      <td>13.24</td>\n      <td>2.59</td>\n      <td>2.87</td>\n      <td>21.00</td>\n      <td>118.00</td>\n      <td>2.80</td>\n      <td>2.69</td>\n      <td>0.39</td>\n      <td>1.82</td>\n      <td>4.32</td>\n      <td>1.04</td>\n      <td>2.93</td>\n      <td>735.00</td>\n    </tr>\n    <tr>\n      <th>...</th>\n      <td>...</td>\n      <td>...</td>\n      <td>...</td>\n      <td>...</td>\n      <td>...</td>\n      <td>...</td>\n      <td>...</td>\n      <td>...</td>\n      <td>...</td>\n      <td>...</td>\n      <td>...</td>\n      <td>...</td>\n      <td>...</td>\n    </tr>\n    <tr>\n      <th>173</th>\n      <td>13.71</td>\n      <td>5.65</td>\n      <td>2.45</td>\n      <td>20.50</td>\n      <td>95.00</td>\n      <td>1.68</td>\n      <td>0.61</td>\n      <td>0.52</td>\n      <td>1.06</td>\n      <td>7.70</td>\n      <td>0.64</td>\n      <td>1.74</td>\n      <td>740.00</td>\n    </tr>\n    <tr>\n      <th>174</th>\n      <td>13.40</td>\n      <td>3.91</td>\n      <td>2.48</td>\n      <td>23.00</td>\n      <td>102.00</td>\n      <td>1.80</td>\n      <td>0.75</td>\n      <td>0.43</td>\n      <td>1.41</td>\n      <td>7.30</td>\n      <td>0.70</td>\n      <td>1.56</td>\n      <td>750.00</td>\n    </tr>\n    <tr>\n      <th>175</th>\n      <td>13.27</td>\n      <td>4.28</td>\n      <td>2.26</td>\n      <td>20.00</td>\n      <td>120.00</td>\n      <td>1.59</td>\n      <td>0.69</td>\n      <td>0.43</td>\n      <td>1.35</td>\n      <td>10.20</td>\n      <td>0.59</td>\n      <td>1.56</td>\n      <td>835.00</td>\n    </tr>\n    <tr>\n      <th>176</th>\n      <td>13.17</td>\n      <td>2.59</td>\n      <td>2.37</td>\n      <td>20.00</td>\n      <td>120.00</td>\n      <td>1.65</td>\n      <td>0.68</td>\n      <td>0.53</td>\n      <td>1.46</td>\n      <td>9.30</td>\n      <td>0.60</td>\n      <td>1.62</td>\n      <td>840.00</td>\n    </tr>\n    <tr>\n      <th>177</th>\n      <td>14.13</td>\n      <td>4.10</td>\n      <td>2.74</td>\n      <td>24.50</td>\n      <td>96.00</td>\n      <td>2.05</td>\n      <td>0.76</td>\n      <td>0.56</td>\n      <td>1.35</td>\n      <td>9.20</td>\n      <td>0.61</td>\n      <td>1.60</td>\n      <td>560.00</td>\n    </tr>\n  </tbody>\n</table>\n<p>178 rows × 13 columns</p>\n</div>"
     },
     "execution_count": 197,
     "metadata": {},
     "output_type": "execute_result"
    }
   ],
   "source": [
    "X=X.drop('target', axis=1)\n",
    "X"
   ],
   "metadata": {
    "collapsed": false,
    "pycharm": {
     "name": "#%%\n"
    }
   }
  },
  {
   "cell_type": "code",
   "execution_count": 198,
   "outputs": [],
   "source": [
    "temp = X[high_corr].apply(lambda x: x**2)\n",
    "temp.columns = [el+'_2' for el in list(X[high_corr])]\n",
    "X=X.join(temp)"
   ],
   "metadata": {
    "collapsed": false,
    "pycharm": {
     "name": "#%%\n"
    }
   }
  },
  {
   "cell_type": "code",
   "execution_count": 199,
   "outputs": [
    {
     "data": {
      "text/plain": "     alcohol  malic_acid  ash  alcalinity_of_ash  magnesium  total_phenols  \\\n0      14.23        1.71 2.43              15.60     127.00           2.80   \n1      13.20        1.78 2.14              11.20     100.00           2.65   \n2      13.16        2.36 2.67              18.60     101.00           2.80   \n3      14.37        1.95 2.50              16.80     113.00           3.85   \n4      13.24        2.59 2.87              21.00     118.00           2.80   \n..       ...         ...  ...                ...        ...            ...   \n173    13.71        5.65 2.45              20.50      95.00           1.68   \n174    13.40        3.91 2.48              23.00     102.00           1.80   \n175    13.27        4.28 2.26              20.00     120.00           1.59   \n176    13.17        2.59 2.37              20.00     120.00           1.65   \n177    14.13        4.10 2.74              24.50      96.00           2.05   \n\n     flavanoids  nonflavanoid_phenols  proanthocyanins  color_intensity  hue  \\\n0          3.06                  0.28             2.29             5.64 1.04   \n1          2.76                  0.26             1.28             4.38 1.05   \n2          3.24                  0.30             2.81             5.68 1.03   \n3          3.49                  0.24             2.18             7.80 0.86   \n4          2.69                  0.39             1.82             4.32 1.04   \n..          ...                   ...              ...              ...  ...   \n173        0.61                  0.52             1.06             7.70 0.64   \n174        0.75                  0.43             1.41             7.30 0.70   \n175        0.69                  0.43             1.35            10.20 0.59   \n176        0.68                  0.53             1.46             9.30 0.60   \n177        0.76                  0.56             1.35             9.20 0.61   \n\n     od280/od315_of_diluted_wines  proline  alcalinity_of_ash_2  \\\n0                            3.92 1,065.00               243.36   \n1                            3.40 1,050.00               125.44   \n2                            3.17 1,185.00               345.96   \n3                            3.45 1,480.00               282.24   \n4                            2.93   735.00               441.00   \n..                            ...      ...                  ...   \n173                          1.74   740.00               420.25   \n174                          1.56   750.00               529.00   \n175                          1.56   835.00               400.00   \n176                          1.62   840.00               400.00   \n177                          1.60   560.00               600.25   \n\n     total_phenols_2  flavanoids_2  hue_2  od280/od315_of_diluted_wines_2  \\\n0               7.84          9.36   1.08                           15.37   \n1               7.02          7.62   1.10                           11.56   \n2               7.84         10.50   1.06                           10.05   \n3              14.82         12.18   0.74                           11.90   \n4               7.84          7.24   1.08                            8.58   \n..               ...           ...    ...                             ...   \n173             2.82          0.37   0.41                            3.03   \n174             3.24          0.56   0.49                            2.43   \n175             2.53          0.48   0.35                            2.43   \n176             2.72          0.46   0.36                            2.62   \n177             4.20          0.58   0.37                            2.56   \n\n       proline_2  \n0   1,134,225.00  \n1   1,102,500.00  \n2   1,404,225.00  \n3   2,190,400.00  \n4     540,225.00  \n..           ...  \n173   547,600.00  \n174   562,500.00  \n175   697,225.00  \n176   705,600.00  \n177   313,600.00  \n\n[178 rows x 19 columns]",
      "text/html": "<div>\n<style scoped>\n    .dataframe tbody tr th:only-of-type {\n        vertical-align: middle;\n    }\n\n    .dataframe tbody tr th {\n        vertical-align: top;\n    }\n\n    .dataframe thead th {\n        text-align: right;\n    }\n</style>\n<table border=\"1\" class=\"dataframe\">\n  <thead>\n    <tr style=\"text-align: right;\">\n      <th></th>\n      <th>alcohol</th>\n      <th>malic_acid</th>\n      <th>ash</th>\n      <th>alcalinity_of_ash</th>\n      <th>magnesium</th>\n      <th>total_phenols</th>\n      <th>flavanoids</th>\n      <th>nonflavanoid_phenols</th>\n      <th>proanthocyanins</th>\n      <th>color_intensity</th>\n      <th>hue</th>\n      <th>od280/od315_of_diluted_wines</th>\n      <th>proline</th>\n      <th>alcalinity_of_ash_2</th>\n      <th>total_phenols_2</th>\n      <th>flavanoids_2</th>\n      <th>hue_2</th>\n      <th>od280/od315_of_diluted_wines_2</th>\n      <th>proline_2</th>\n    </tr>\n  </thead>\n  <tbody>\n    <tr>\n      <th>0</th>\n      <td>14.23</td>\n      <td>1.71</td>\n      <td>2.43</td>\n      <td>15.60</td>\n      <td>127.00</td>\n      <td>2.80</td>\n      <td>3.06</td>\n      <td>0.28</td>\n      <td>2.29</td>\n      <td>5.64</td>\n      <td>1.04</td>\n      <td>3.92</td>\n      <td>1,065.00</td>\n      <td>243.36</td>\n      <td>7.84</td>\n      <td>9.36</td>\n      <td>1.08</td>\n      <td>15.37</td>\n      <td>1,134,225.00</td>\n    </tr>\n    <tr>\n      <th>1</th>\n      <td>13.20</td>\n      <td>1.78</td>\n      <td>2.14</td>\n      <td>11.20</td>\n      <td>100.00</td>\n      <td>2.65</td>\n      <td>2.76</td>\n      <td>0.26</td>\n      <td>1.28</td>\n      <td>4.38</td>\n      <td>1.05</td>\n      <td>3.40</td>\n      <td>1,050.00</td>\n      <td>125.44</td>\n      <td>7.02</td>\n      <td>7.62</td>\n      <td>1.10</td>\n      <td>11.56</td>\n      <td>1,102,500.00</td>\n    </tr>\n    <tr>\n      <th>2</th>\n      <td>13.16</td>\n      <td>2.36</td>\n      <td>2.67</td>\n      <td>18.60</td>\n      <td>101.00</td>\n      <td>2.80</td>\n      <td>3.24</td>\n      <td>0.30</td>\n      <td>2.81</td>\n      <td>5.68</td>\n      <td>1.03</td>\n      <td>3.17</td>\n      <td>1,185.00</td>\n      <td>345.96</td>\n      <td>7.84</td>\n      <td>10.50</td>\n      <td>1.06</td>\n      <td>10.05</td>\n      <td>1,404,225.00</td>\n    </tr>\n    <tr>\n      <th>3</th>\n      <td>14.37</td>\n      <td>1.95</td>\n      <td>2.50</td>\n      <td>16.80</td>\n      <td>113.00</td>\n      <td>3.85</td>\n      <td>3.49</td>\n      <td>0.24</td>\n      <td>2.18</td>\n      <td>7.80</td>\n      <td>0.86</td>\n      <td>3.45</td>\n      <td>1,480.00</td>\n      <td>282.24</td>\n      <td>14.82</td>\n      <td>12.18</td>\n      <td>0.74</td>\n      <td>11.90</td>\n      <td>2,190,400.00</td>\n    </tr>\n    <tr>\n      <th>4</th>\n      <td>13.24</td>\n      <td>2.59</td>\n      <td>2.87</td>\n      <td>21.00</td>\n      <td>118.00</td>\n      <td>2.80</td>\n      <td>2.69</td>\n      <td>0.39</td>\n      <td>1.82</td>\n      <td>4.32</td>\n      <td>1.04</td>\n      <td>2.93</td>\n      <td>735.00</td>\n      <td>441.00</td>\n      <td>7.84</td>\n      <td>7.24</td>\n      <td>1.08</td>\n      <td>8.58</td>\n      <td>540,225.00</td>\n    </tr>\n    <tr>\n      <th>...</th>\n      <td>...</td>\n      <td>...</td>\n      <td>...</td>\n      <td>...</td>\n      <td>...</td>\n      <td>...</td>\n      <td>...</td>\n      <td>...</td>\n      <td>...</td>\n      <td>...</td>\n      <td>...</td>\n      <td>...</td>\n      <td>...</td>\n      <td>...</td>\n      <td>...</td>\n      <td>...</td>\n      <td>...</td>\n      <td>...</td>\n      <td>...</td>\n    </tr>\n    <tr>\n      <th>173</th>\n      <td>13.71</td>\n      <td>5.65</td>\n      <td>2.45</td>\n      <td>20.50</td>\n      <td>95.00</td>\n      <td>1.68</td>\n      <td>0.61</td>\n      <td>0.52</td>\n      <td>1.06</td>\n      <td>7.70</td>\n      <td>0.64</td>\n      <td>1.74</td>\n      <td>740.00</td>\n      <td>420.25</td>\n      <td>2.82</td>\n      <td>0.37</td>\n      <td>0.41</td>\n      <td>3.03</td>\n      <td>547,600.00</td>\n    </tr>\n    <tr>\n      <th>174</th>\n      <td>13.40</td>\n      <td>3.91</td>\n      <td>2.48</td>\n      <td>23.00</td>\n      <td>102.00</td>\n      <td>1.80</td>\n      <td>0.75</td>\n      <td>0.43</td>\n      <td>1.41</td>\n      <td>7.30</td>\n      <td>0.70</td>\n      <td>1.56</td>\n      <td>750.00</td>\n      <td>529.00</td>\n      <td>3.24</td>\n      <td>0.56</td>\n      <td>0.49</td>\n      <td>2.43</td>\n      <td>562,500.00</td>\n    </tr>\n    <tr>\n      <th>175</th>\n      <td>13.27</td>\n      <td>4.28</td>\n      <td>2.26</td>\n      <td>20.00</td>\n      <td>120.00</td>\n      <td>1.59</td>\n      <td>0.69</td>\n      <td>0.43</td>\n      <td>1.35</td>\n      <td>10.20</td>\n      <td>0.59</td>\n      <td>1.56</td>\n      <td>835.00</td>\n      <td>400.00</td>\n      <td>2.53</td>\n      <td>0.48</td>\n      <td>0.35</td>\n      <td>2.43</td>\n      <td>697,225.00</td>\n    </tr>\n    <tr>\n      <th>176</th>\n      <td>13.17</td>\n      <td>2.59</td>\n      <td>2.37</td>\n      <td>20.00</td>\n      <td>120.00</td>\n      <td>1.65</td>\n      <td>0.68</td>\n      <td>0.53</td>\n      <td>1.46</td>\n      <td>9.30</td>\n      <td>0.60</td>\n      <td>1.62</td>\n      <td>840.00</td>\n      <td>400.00</td>\n      <td>2.72</td>\n      <td>0.46</td>\n      <td>0.36</td>\n      <td>2.62</td>\n      <td>705,600.00</td>\n    </tr>\n    <tr>\n      <th>177</th>\n      <td>14.13</td>\n      <td>4.10</td>\n      <td>2.74</td>\n      <td>24.50</td>\n      <td>96.00</td>\n      <td>2.05</td>\n      <td>0.76</td>\n      <td>0.56</td>\n      <td>1.35</td>\n      <td>9.20</td>\n      <td>0.61</td>\n      <td>1.60</td>\n      <td>560.00</td>\n      <td>600.25</td>\n      <td>4.20</td>\n      <td>0.58</td>\n      <td>0.37</td>\n      <td>2.56</td>\n      <td>313,600.00</td>\n    </tr>\n  </tbody>\n</table>\n<p>178 rows × 19 columns</p>\n</div>"
     },
     "execution_count": 199,
     "metadata": {},
     "output_type": "execute_result"
    }
   ],
   "source": [
    "X"
   ],
   "metadata": {
    "collapsed": false,
    "pycharm": {
     "name": "#%%\n"
    }
   }
  },
  {
   "cell_type": "code",
   "execution_count": 200,
   "outputs": [
    {
     "data": {
      "text/plain": "       alcohol  malic_acid    ash  alcalinity_of_ash  magnesium  \\\ncount   178.00      178.00 178.00             178.00     178.00   \nmean     13.00        2.34   2.37              19.49      99.74   \nstd       0.81        1.12   0.27               3.34      14.28   \nmin      11.03        0.74   1.36              10.60      70.00   \n25%      12.36        1.60   2.21              17.20      88.00   \n50%      13.05        1.87   2.36              19.50      98.00   \n75%      13.68        3.08   2.56              21.50     107.00   \nmax      14.83        5.80   3.23              30.00     162.00   \n\n       total_phenols  flavanoids  nonflavanoid_phenols  proanthocyanins  \\\ncount         178.00      178.00                178.00           178.00   \nmean            2.30        2.03                  0.36             1.59   \nstd             0.63        1.00                  0.12             0.57   \nmin             0.98        0.34                  0.13             0.41   \n25%             1.74        1.21                  0.27             1.25   \n50%             2.35        2.13                  0.34             1.56   \n75%             2.80        2.88                  0.44             1.95   \nmax             3.88        5.08                  0.66             3.58   \n\n       color_intensity    hue  od280/od315_of_diluted_wines  proline  \\\ncount           178.00 178.00                        178.00   178.00   \nmean              5.06   0.96                          2.61   746.89   \nstd               2.32   0.23                          0.71   314.91   \nmin               1.28   0.48                          1.27   278.00   \n25%               3.22   0.78                          1.94   500.50   \n50%               4.69   0.96                          2.78   673.50   \n75%               6.20   1.12                          3.17   985.00   \nmax              13.00   1.71                          4.00 1,680.00   \n\n       alcalinity_of_ash_2  total_phenols_2  flavanoids_2  hue_2  \\\ncount               178.00           178.00        178.00 178.00   \nmean                391.14             5.66          5.11   0.97   \nstd                 133.67             2.94          4.21   0.44   \nmin                 112.36             0.96          0.12   0.23   \n25%                 295.84             3.04          1.45   0.61   \n50%                 380.25             5.55          4.56   0.93   \n75%                 462.25             7.84          8.27   1.25   \nmax                 900.00            15.05         25.81   2.92   \n\n       od280/od315_of_diluted_wines_2    proline_2  \ncount                          178.00       178.00  \nmean                             7.32   656,459.14  \nstd                              3.58   555,859.14  \nmin                              1.61    77,284.00  \n25%                              3.75   250,501.00  \n50%                              7.73   453,604.50  \n75%                             10.05   970,225.00  \nmax                             16.00 2,822,400.00  ",
      "text/html": "<div>\n<style scoped>\n    .dataframe tbody tr th:only-of-type {\n        vertical-align: middle;\n    }\n\n    .dataframe tbody tr th {\n        vertical-align: top;\n    }\n\n    .dataframe thead th {\n        text-align: right;\n    }\n</style>\n<table border=\"1\" class=\"dataframe\">\n  <thead>\n    <tr style=\"text-align: right;\">\n      <th></th>\n      <th>alcohol</th>\n      <th>malic_acid</th>\n      <th>ash</th>\n      <th>alcalinity_of_ash</th>\n      <th>magnesium</th>\n      <th>total_phenols</th>\n      <th>flavanoids</th>\n      <th>nonflavanoid_phenols</th>\n      <th>proanthocyanins</th>\n      <th>color_intensity</th>\n      <th>hue</th>\n      <th>od280/od315_of_diluted_wines</th>\n      <th>proline</th>\n      <th>alcalinity_of_ash_2</th>\n      <th>total_phenols_2</th>\n      <th>flavanoids_2</th>\n      <th>hue_2</th>\n      <th>od280/od315_of_diluted_wines_2</th>\n      <th>proline_2</th>\n    </tr>\n  </thead>\n  <tbody>\n    <tr>\n      <th>count</th>\n      <td>178.00</td>\n      <td>178.00</td>\n      <td>178.00</td>\n      <td>178.00</td>\n      <td>178.00</td>\n      <td>178.00</td>\n      <td>178.00</td>\n      <td>178.00</td>\n      <td>178.00</td>\n      <td>178.00</td>\n      <td>178.00</td>\n      <td>178.00</td>\n      <td>178.00</td>\n      <td>178.00</td>\n      <td>178.00</td>\n      <td>178.00</td>\n      <td>178.00</td>\n      <td>178.00</td>\n      <td>178.00</td>\n    </tr>\n    <tr>\n      <th>mean</th>\n      <td>13.00</td>\n      <td>2.34</td>\n      <td>2.37</td>\n      <td>19.49</td>\n      <td>99.74</td>\n      <td>2.30</td>\n      <td>2.03</td>\n      <td>0.36</td>\n      <td>1.59</td>\n      <td>5.06</td>\n      <td>0.96</td>\n      <td>2.61</td>\n      <td>746.89</td>\n      <td>391.14</td>\n      <td>5.66</td>\n      <td>5.11</td>\n      <td>0.97</td>\n      <td>7.32</td>\n      <td>656,459.14</td>\n    </tr>\n    <tr>\n      <th>std</th>\n      <td>0.81</td>\n      <td>1.12</td>\n      <td>0.27</td>\n      <td>3.34</td>\n      <td>14.28</td>\n      <td>0.63</td>\n      <td>1.00</td>\n      <td>0.12</td>\n      <td>0.57</td>\n      <td>2.32</td>\n      <td>0.23</td>\n      <td>0.71</td>\n      <td>314.91</td>\n      <td>133.67</td>\n      <td>2.94</td>\n      <td>4.21</td>\n      <td>0.44</td>\n      <td>3.58</td>\n      <td>555,859.14</td>\n    </tr>\n    <tr>\n      <th>min</th>\n      <td>11.03</td>\n      <td>0.74</td>\n      <td>1.36</td>\n      <td>10.60</td>\n      <td>70.00</td>\n      <td>0.98</td>\n      <td>0.34</td>\n      <td>0.13</td>\n      <td>0.41</td>\n      <td>1.28</td>\n      <td>0.48</td>\n      <td>1.27</td>\n      <td>278.00</td>\n      <td>112.36</td>\n      <td>0.96</td>\n      <td>0.12</td>\n      <td>0.23</td>\n      <td>1.61</td>\n      <td>77,284.00</td>\n    </tr>\n    <tr>\n      <th>25%</th>\n      <td>12.36</td>\n      <td>1.60</td>\n      <td>2.21</td>\n      <td>17.20</td>\n      <td>88.00</td>\n      <td>1.74</td>\n      <td>1.21</td>\n      <td>0.27</td>\n      <td>1.25</td>\n      <td>3.22</td>\n      <td>0.78</td>\n      <td>1.94</td>\n      <td>500.50</td>\n      <td>295.84</td>\n      <td>3.04</td>\n      <td>1.45</td>\n      <td>0.61</td>\n      <td>3.75</td>\n      <td>250,501.00</td>\n    </tr>\n    <tr>\n      <th>50%</th>\n      <td>13.05</td>\n      <td>1.87</td>\n      <td>2.36</td>\n      <td>19.50</td>\n      <td>98.00</td>\n      <td>2.35</td>\n      <td>2.13</td>\n      <td>0.34</td>\n      <td>1.56</td>\n      <td>4.69</td>\n      <td>0.96</td>\n      <td>2.78</td>\n      <td>673.50</td>\n      <td>380.25</td>\n      <td>5.55</td>\n      <td>4.56</td>\n      <td>0.93</td>\n      <td>7.73</td>\n      <td>453,604.50</td>\n    </tr>\n    <tr>\n      <th>75%</th>\n      <td>13.68</td>\n      <td>3.08</td>\n      <td>2.56</td>\n      <td>21.50</td>\n      <td>107.00</td>\n      <td>2.80</td>\n      <td>2.88</td>\n      <td>0.44</td>\n      <td>1.95</td>\n      <td>6.20</td>\n      <td>1.12</td>\n      <td>3.17</td>\n      <td>985.00</td>\n      <td>462.25</td>\n      <td>7.84</td>\n      <td>8.27</td>\n      <td>1.25</td>\n      <td>10.05</td>\n      <td>970,225.00</td>\n    </tr>\n    <tr>\n      <th>max</th>\n      <td>14.83</td>\n      <td>5.80</td>\n      <td>3.23</td>\n      <td>30.00</td>\n      <td>162.00</td>\n      <td>3.88</td>\n      <td>5.08</td>\n      <td>0.66</td>\n      <td>3.58</td>\n      <td>13.00</td>\n      <td>1.71</td>\n      <td>4.00</td>\n      <td>1,680.00</td>\n      <td>900.00</td>\n      <td>15.05</td>\n      <td>25.81</td>\n      <td>2.92</td>\n      <td>16.00</td>\n      <td>2,822,400.00</td>\n    </tr>\n  </tbody>\n</table>\n</div>"
     },
     "execution_count": 200,
     "metadata": {},
     "output_type": "execute_result"
    }
   ],
   "source": [
    "X.describe()"
   ],
   "metadata": {
    "collapsed": false,
    "pycharm": {
     "name": "#%%\n"
    }
   }
  },
  {
   "cell_type": "code",
   "execution_count": 200,
   "outputs": [],
   "source": [],
   "metadata": {
    "collapsed": false,
    "pycharm": {
     "name": "#%%\n"
    }
   }
  },
  {
   "cell_type": "code",
   "execution_count": 200,
   "outputs": [],
   "source": [],
   "metadata": {
    "collapsed": false,
    "pycharm": {
     "name": "#%%\n"
    }
   }
  }
 ],
 "metadata": {
  "kernelspec": {
   "display_name": "Python 3",
   "language": "python",
   "name": "python3"
  },
  "language_info": {
   "codemirror_mode": {
    "name": "ipython",
    "version": 2
   },
   "file_extension": ".py",
   "mimetype": "text/x-python",
   "name": "python",
   "nbconvert_exporter": "python",
   "pygments_lexer": "ipython2",
   "version": "2.7.6"
  }
 },
 "nbformat": 4,
 "nbformat_minor": 0
}